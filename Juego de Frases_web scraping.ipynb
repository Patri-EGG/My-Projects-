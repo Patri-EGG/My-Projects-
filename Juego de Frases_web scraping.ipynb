{
 "cells": [
  {
   "cell_type": "code",
   "execution_count": 135,
   "metadata": {},
   "outputs": [],
   "source": [
    "from bs4 import BeautifulSoup\n",
    "import requests\n",
    "import pandas as pd\n",
    "from time import sleep # Esto hará que los request esperen dos segundos entre ellos dentro del 'While loop' para no llamar la atención o ser pillados.\n",
    "import random                       #En esta página no hace falta porque esta hecha con fines educativos para 'Scraping'."
   ]
  },
  {
   "cell_type": "markdown",
   "metadata": {},
   "source": [
    "### Display the quote to the user and ask who said it. The player will have four guesses remaining.\n",
    "### After each incorrect guess, the number of guesses remaining will decrement. If the player gets to zero guesses without identifying the author, the player loses and the game ends. If the player correctly identifies the author, the player wins!\n",
    "### After every incorrect guess, the player receives a hint about the author:\n",
    "##### For the first hint, make another request to the author's bio page (this is why we originally scrape this data), and tell the player the author's birth date and location.\n",
    "##### The next two hints are up to you! Some ideas: the first letter of the author's first name, the first letter of the author's last name, the number of letters in one of the names, etc.\n",
    "### When the game is over, ask the player if they want to play again. If yes, restart the game with a new quote. If no, the program is complete.\n"
   ]
  },
  {
   "cell_type": "code",
   "execution_count": 136,
   "metadata": {},
   "outputs": [
    {
     "name": "stdout",
     "output_type": "stream",
     "text": [
      "Se está 'Scrapeando' https://quotes.toscrape.com//page/1\n",
      "Se está 'Scrapeando' https://quotes.toscrape.com//page/2/\n",
      "Se está 'Scrapeando' https://quotes.toscrape.com//page/3/\n",
      "Se está 'Scrapeando' https://quotes.toscrape.com//page/4/\n",
      "Se está 'Scrapeando' https://quotes.toscrape.com//page/5/\n",
      "Se está 'Scrapeando' https://quotes.toscrape.com//page/6/\n",
      "Se está 'Scrapeando' https://quotes.toscrape.com//page/7/\n",
      "Se está 'Scrapeando' https://quotes.toscrape.com//page/8/\n",
      "Se está 'Scrapeando' https://quotes.toscrape.com//page/9/\n",
      "Se está 'Scrapeando' https://quotes.toscrape.com//page/10/\n",
      "Quién es el autor de esta frase:\n",
      "“You can never get a cup of tea large enough or a book long enough to suit me.”\n",
      "C.S. Lewis\n",
      "!Correcto!\n",
      "AFTER WHILE LOOP\n"
     ]
    }
   ],
   "source": [
    "all_quotes = []\n",
    "base_url = \"https://quotes.toscrape.com/\"  # Creamos esto para luego appendearle página2,3, etc..\n",
    "url_paginas = \"/page/1\"    # Esta variable irá cambiando.\n",
    "\n",
    "while url_paginas:    # Usamos este loop para obtener las \"quotes\" de todas las páginas.\n",
    "    res_base = requests.get(f\"{base_url}{url_paginas}\")   # Hacemos que el request busque diferentes urls dependiendo de las páginas.\n",
    "    print(f\"Se está 'Scrapeando' {base_url}{url_paginas}\")\n",
    "    sopa = BeautifulSoup(res_base.text, \"html.parser\")\n",
    "    quotes = sopa.find_all(class_= \"quote\") # La clase \"quote\" la encontré inspeccionando la página.\n",
    "    \n",
    "    for quote in quotes:    # Aqui damos la informacion a la variable all_quotes\n",
    "        all_quotes.append({\n",
    "        \"frase\" : quote.find(class_= \"text\").get_text(),  #get_text() limpia el texto eliminando los elemento\n",
    "        \"autor\" : quote.find(class_=\"author\").get_text(),\n",
    "        \"bio-enlace\" : quote.find(\"a\")[\"href\"]              \n",
    "        #Corchetes en \"href\"es syntax para elegir un solo atributo.\n",
    "    })\n",
    "        \n",
    "    next_button = sopa.find(class_=\"next\")\n",
    "    url_paginas = next_button.find(\"a\") [\"href\"] if next_button else None    # Este while hace que el url cambie hasta que no hayan más botones next en las páginas.\n",
    "   # sleep(2)           # Esto hará que los request esperen dos segundos entre ellos para no llamar la atención o ser pillados.\n",
    "   \n",
    "   # En este punto (si fuera un juego real) podríamos guardar all_quotes en un csv, etc. e irlas actualizando cada semana (por ejemplo). Así todo irá más rápido.\n",
    "   \n",
    "   # Ahora empezamos a codificar el juego:\n",
    "   \n",
    "quote = random.choice(all_quotes)\n",
    "intentos_maximos = 4\n",
    "print(\"Quién es el autor de esta frase:\")\n",
    "print(quote[\"frase\"])\n",
    "print(quote[\"autor\"])\n",
    "adivinanza = \"\"\n",
    "while adivinanza.lower() != quote[\"autor\"].lower() and intentos_maximos > 0:\n",
    "    adivinanza = input(f\"Escribe tu respuesta. Te quedan {intentos_maximos} intentos\").lower()\n",
    "    if adivinanza == quote[\"autor\"].lower():\n",
    "        print(\"!Correcto!\")\n",
    "        break\n",
    "    intentos_maximos -= 1\n",
    "    if intentos_maximos == 3:   # Esto da una pista despues del primer intento, ya que el max de intento es 4.\n",
    "        res = requests.get(f\"{base_url}{quote['bio-enlace']}\")\n",
    "        sopa = BeautifulSoup(res.text,\"html.parser\")\n",
    "        año_nacimiento = sopa.find(class_= \"author-born-date\").get_text()   # Esta clase la encontre inspeccionando la pagina de bio de  un autor.\n",
    "        lugar_nacimiento = sopa.find(class_= \"author-born-location\").get_text()   # Esta clase la encontre inspeccionando la pagina de bio de  un autor.\n",
    "        print(f\"Te doy una pista: el autor de la frase nació {lugar_nacimiento} {año_nacimiento}\")\n",
    "    elif intentos_maximos == 2:\n",
    "        print(f\"Te doy otra pista: El nombre del autor de la frase empieza por la letra '{quote['autor'][0]}'\")\n",
    "    elif intentos_maximos == 1:\n",
    "        inicial_apellido = quote['autor'].split(\" \")[1][0] # Guardamos en variable porque tenemos que hacer un split() para dividir entre espacio en el string primero.\n",
    "        print(f\"Otra pista: El apellido del autor empieza por la letra {inicial_apellido}\")\n",
    "    else: print(f\"Lo siento, no te quedan más intentos. La respuesta correcta es {quote['autor']}\")\n",
    "        \n",
    "    \n",
    "    \n",
    "print(\"AFTER WHILE LOOP\")\n",
    "   "
   ]
  },
  {
   "cell_type": "markdown",
   "metadata": {},
   "source": []
  },
  {
   "cell_type": "code",
   "execution_count": null,
   "metadata": {},
   "outputs": [],
   "source": []
  },
  {
   "cell_type": "code",
   "execution_count": null,
   "metadata": {},
   "outputs": [],
   "source": [
    "\n",
    "\n",
    "\n"
   ]
  },
  {
   "cell_type": "code",
   "execution_count": null,
   "metadata": {},
   "outputs": [],
   "source": []
  }
 ],
 "metadata": {
  "kernelspec": {
   "display_name": "base",
   "language": "python",
   "name": "python3"
  },
  "language_info": {
   "codemirror_mode": {
    "name": "ipython",
    "version": 3
   },
   "file_extension": ".py",
   "mimetype": "text/x-python",
   "name": "python",
   "nbconvert_exporter": "python",
   "pygments_lexer": "ipython3",
   "version": "3.11.8"
  }
 },
 "nbformat": 4,
 "nbformat_minor": 2
}
