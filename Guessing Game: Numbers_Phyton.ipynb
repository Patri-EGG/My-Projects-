{
 "cells": [
  {
   "cell_type": "code",
   "execution_count": null,
   "metadata": {},
   "outputs": [],
   "source": [
    "\n",
    "import random\n",
    "random_number = random.randint(1,10)\n",
    "\n",
    "while True:\n",
    "    input_usuario = input(\"Adivina un número del 1 al 10 o escribe 'salir' para terminar el juego\")\n",
    "    if input_usuario == \"salir\":\n",
    "        print(\"Has salido del juego 🥲\")\n",
    "        break\n",
    "    elif input_usuario.isnumeric():\n",
    "        input_usuario = int(input_usuario)\n",
    "        if input_usuario < random_number:\n",
    "            print(input_usuario , \" es muy bajo! 🧐\")\n",
    "        elif input_usuario > random_number:\n",
    "            print(input_usuario, \"es muy alto! 🙃\")\n",
    "        else: \n",
    "            print(input_usuario, \"Es correcto! Has ganado 🙌 😃\")\n",
    "            juega_otra_vez = input(\"Quieres seguir jugando? s/n'\")\n",
    "            if juega_otra_vez == \"s\":\n",
    "                random_number = random.randint(1,10)\n",
    "                input_usuario = None\n",
    "            else:\n",
    "                print(\"Gracias por jugar. Hasta la próxima 👍\")\n",
    "                break\n",
    "    else: print(\"Ingresa un valor válido 😎\") \n",
    "               "
   ]
  }
 ],
 "metadata": {
  "language_info": {
   "name": "python"
  }
 },
 "nbformat": 4,
 "nbformat_minor": 2
}
